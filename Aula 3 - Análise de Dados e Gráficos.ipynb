{
 "cells": [
  {
   "cell_type": "markdown",
   "id": "2772dad7",
   "metadata": {},
   "source": [
    "# Análise de Dados"
   ]
  },
  {
   "cell_type": "markdown",
   "id": "bc0d3be5",
   "metadata": {},
   "source": [
    "# Carregando dados - Pandas"
   ]
  },
  {
   "cell_type": "code",
   "execution_count": 14,
   "id": "50e2b38b",
   "metadata": {},
   "outputs": [],
   "source": [
    "import pandas as pd"
   ]
  },
  {
   "cell_type": "code",
   "execution_count": 15,
   "id": "a8b89254",
   "metadata": {},
   "outputs": [],
   "source": [
    "dados = pd.read_excel(\"vendas.xlsx\")"
   ]
  },
  {
   "cell_type": "code",
   "execution_count": 16,
   "id": "58efb53b",
   "metadata": {},
   "outputs": [
    {
     "data": {
      "text/html": [
       "<div>\n",
       "<style scoped>\n",
       "    .dataframe tbody tr th:only-of-type {\n",
       "        vertical-align: middle;\n",
       "    }\n",
       "\n",
       "    .dataframe tbody tr th {\n",
       "        vertical-align: top;\n",
       "    }\n",
       "\n",
       "    .dataframe thead th {\n",
       "        text-align: right;\n",
       "    }\n",
       "</style>\n",
       "<table border=\"1\" class=\"dataframe\">\n",
       "  <thead>\n",
       "    <tr style=\"text-align: right;\">\n",
       "      <th></th>\n",
       "      <th>id_pedido</th>\n",
       "      <th>data</th>\n",
       "      <th>loja</th>\n",
       "      <th>cidade</th>\n",
       "      <th>estado</th>\n",
       "      <th>regiao</th>\n",
       "      <th>tamanho</th>\n",
       "      <th>local_consumo</th>\n",
       "      <th>preco</th>\n",
       "      <th>forma_pagamento</th>\n",
       "      <th>ano_mes</th>\n",
       "    </tr>\n",
       "  </thead>\n",
       "  <tbody>\n",
       "    <tr>\n",
       "      <th>0</th>\n",
       "      <td>PED1994</td>\n",
       "      <td>2020-01-01</td>\n",
       "      <td>Loja 4</td>\n",
       "      <td>Santos</td>\n",
       "      <td>São Paulo</td>\n",
       "      <td>Sudeste</td>\n",
       "      <td>300ml</td>\n",
       "      <td>Consumo no local</td>\n",
       "      <td>5</td>\n",
       "      <td>Dinheiro</td>\n",
       "      <td>2020-01</td>\n",
       "    </tr>\n",
       "    <tr>\n",
       "      <th>1</th>\n",
       "      <td>PED2246</td>\n",
       "      <td>2020-01-01</td>\n",
       "      <td>Loja 6</td>\n",
       "      <td>Florianópolis</td>\n",
       "      <td>Santa Catarina</td>\n",
       "      <td>Sul</td>\n",
       "      <td>500ml</td>\n",
       "      <td>Consumo no local</td>\n",
       "      <td>11</td>\n",
       "      <td>Débito</td>\n",
       "      <td>2020-01</td>\n",
       "    </tr>\n",
       "    <tr>\n",
       "      <th>2</th>\n",
       "      <td>PED3876</td>\n",
       "      <td>2020-01-01</td>\n",
       "      <td>Loja 3</td>\n",
       "      <td>Rio de Janeiro</td>\n",
       "      <td>Rio de Janeiro</td>\n",
       "      <td>Sudeste</td>\n",
       "      <td>300ml</td>\n",
       "      <td>Delivery</td>\n",
       "      <td>7</td>\n",
       "      <td>Crédito</td>\n",
       "      <td>2020-01</td>\n",
       "    </tr>\n",
       "    <tr>\n",
       "      <th>3</th>\n",
       "      <td>PED4352</td>\n",
       "      <td>2020-01-01</td>\n",
       "      <td>Loja 1</td>\n",
       "      <td>Fortaleza</td>\n",
       "      <td>Ceará</td>\n",
       "      <td>Nordeste</td>\n",
       "      <td>1000ml</td>\n",
       "      <td>Consumo no local</td>\n",
       "      <td>7</td>\n",
       "      <td>Débito</td>\n",
       "      <td>2020-01</td>\n",
       "    </tr>\n",
       "    <tr>\n",
       "      <th>4</th>\n",
       "      <td>PED8633</td>\n",
       "      <td>2020-01-01</td>\n",
       "      <td>Loja 5</td>\n",
       "      <td>São Paulo</td>\n",
       "      <td>São Paulo</td>\n",
       "      <td>Sudeste</td>\n",
       "      <td>200ml</td>\n",
       "      <td>Delivery</td>\n",
       "      <td>9</td>\n",
       "      <td>Crédito</td>\n",
       "      <td>2020-01</td>\n",
       "    </tr>\n",
       "    <tr>\n",
       "      <th>...</th>\n",
       "      <td>...</td>\n",
       "      <td>...</td>\n",
       "      <td>...</td>\n",
       "      <td>...</td>\n",
       "      <td>...</td>\n",
       "      <td>...</td>\n",
       "      <td>...</td>\n",
       "      <td>...</td>\n",
       "      <td>...</td>\n",
       "      <td>...</td>\n",
       "      <td>...</td>\n",
       "    </tr>\n",
       "    <tr>\n",
       "      <th>69995</th>\n",
       "      <td>PED67084</td>\n",
       "      <td>2022-12-31</td>\n",
       "      <td>Loja 6</td>\n",
       "      <td>Florianópolis</td>\n",
       "      <td>Santa Catarina</td>\n",
       "      <td>Sul</td>\n",
       "      <td>500ml</td>\n",
       "      <td>Consumo no local</td>\n",
       "      <td>11</td>\n",
       "      <td>Crédito</td>\n",
       "      <td>2022-12</td>\n",
       "    </tr>\n",
       "    <tr>\n",
       "      <th>69996</th>\n",
       "      <td>PED67857</td>\n",
       "      <td>2022-12-31</td>\n",
       "      <td>Loja 3</td>\n",
       "      <td>Rio de Janeiro</td>\n",
       "      <td>Rio de Janeiro</td>\n",
       "      <td>Sudeste</td>\n",
       "      <td>200ml</td>\n",
       "      <td>Consumo no local</td>\n",
       "      <td>7</td>\n",
       "      <td>Pix</td>\n",
       "      <td>2022-12</td>\n",
       "    </tr>\n",
       "    <tr>\n",
       "      <th>69997</th>\n",
       "      <td>PED69171</td>\n",
       "      <td>2022-12-31</td>\n",
       "      <td>Loja 4</td>\n",
       "      <td>Santos</td>\n",
       "      <td>São Paulo</td>\n",
       "      <td>Sudeste</td>\n",
       "      <td>500ml</td>\n",
       "      <td>Consumo no local</td>\n",
       "      <td>5</td>\n",
       "      <td>Dinheiro</td>\n",
       "      <td>2022-12</td>\n",
       "    </tr>\n",
       "    <tr>\n",
       "      <th>69998</th>\n",
       "      <td>PED69229</td>\n",
       "      <td>2022-12-31</td>\n",
       "      <td>Loja 4</td>\n",
       "      <td>Santos</td>\n",
       "      <td>São Paulo</td>\n",
       "      <td>Sudeste</td>\n",
       "      <td>300ml</td>\n",
       "      <td>Consumo no local</td>\n",
       "      <td>9</td>\n",
       "      <td>Pix</td>\n",
       "      <td>2022-12</td>\n",
       "    </tr>\n",
       "    <tr>\n",
       "      <th>69999</th>\n",
       "      <td>PED69356</td>\n",
       "      <td>2022-12-31</td>\n",
       "      <td>Loja 1</td>\n",
       "      <td>Fortaleza</td>\n",
       "      <td>Ceará</td>\n",
       "      <td>Nordeste</td>\n",
       "      <td>300ml</td>\n",
       "      <td>Delivery</td>\n",
       "      <td>9</td>\n",
       "      <td>Pix</td>\n",
       "      <td>2022-12</td>\n",
       "    </tr>\n",
       "  </tbody>\n",
       "</table>\n",
       "<p>70000 rows × 11 columns</p>\n",
       "</div>"
      ],
      "text/plain": [
       "      id_pedido       data    loja          cidade          estado    regiao  \\\n",
       "0       PED1994 2020-01-01  Loja 4          Santos       São Paulo   Sudeste   \n",
       "1       PED2246 2020-01-01  Loja 6   Florianópolis  Santa Catarina       Sul   \n",
       "2       PED3876 2020-01-01  Loja 3  Rio de Janeiro  Rio de Janeiro   Sudeste   \n",
       "3       PED4352 2020-01-01  Loja 1       Fortaleza           Ceará  Nordeste   \n",
       "4       PED8633 2020-01-01  Loja 5       São Paulo       São Paulo   Sudeste   \n",
       "...         ...        ...     ...             ...             ...       ...   \n",
       "69995  PED67084 2022-12-31  Loja 6   Florianópolis  Santa Catarina       Sul   \n",
       "69996  PED67857 2022-12-31  Loja 3  Rio de Janeiro  Rio de Janeiro   Sudeste   \n",
       "69997  PED69171 2022-12-31  Loja 4          Santos       São Paulo   Sudeste   \n",
       "69998  PED69229 2022-12-31  Loja 4          Santos       São Paulo   Sudeste   \n",
       "69999  PED69356 2022-12-31  Loja 1       Fortaleza           Ceará  Nordeste   \n",
       "\n",
       "      tamanho     local_consumo  preco forma_pagamento  ano_mes  \n",
       "0       300ml  Consumo no local      5        Dinheiro  2020-01  \n",
       "1       500ml  Consumo no local     11          Débito  2020-01  \n",
       "2       300ml          Delivery      7         Crédito  2020-01  \n",
       "3      1000ml  Consumo no local      7          Débito  2020-01  \n",
       "4       200ml          Delivery      9         Crédito  2020-01  \n",
       "...       ...               ...    ...             ...      ...  \n",
       "69995   500ml  Consumo no local     11         Crédito  2022-12  \n",
       "69996   200ml  Consumo no local      7             Pix  2022-12  \n",
       "69997   500ml  Consumo no local      5        Dinheiro  2022-12  \n",
       "69998   300ml  Consumo no local      9             Pix  2022-12  \n",
       "69999   300ml          Delivery      9             Pix  2022-12  \n",
       "\n",
       "[70000 rows x 11 columns]"
      ]
     },
     "execution_count": 16,
     "metadata": {},
     "output_type": "execute_result"
    }
   ],
   "source": [
    "dados"
   ]
  },
  {
   "cell_type": "markdown",
   "id": "aab709f2",
   "metadata": {},
   "source": [
    "# Análise Exploratória"
   ]
  },
  {
   "cell_type": "code",
   "execution_count": 17,
   "id": "26afc16a",
   "metadata": {},
   "outputs": [
    {
     "data": {
      "text/html": [
       "<div>\n",
       "<style scoped>\n",
       "    .dataframe tbody tr th:only-of-type {\n",
       "        vertical-align: middle;\n",
       "    }\n",
       "\n",
       "    .dataframe tbody tr th {\n",
       "        vertical-align: top;\n",
       "    }\n",
       "\n",
       "    .dataframe thead th {\n",
       "        text-align: right;\n",
       "    }\n",
       "</style>\n",
       "<table border=\"1\" class=\"dataframe\">\n",
       "  <thead>\n",
       "    <tr style=\"text-align: right;\">\n",
       "      <th></th>\n",
       "      <th>id_pedido</th>\n",
       "      <th>data</th>\n",
       "      <th>loja</th>\n",
       "      <th>cidade</th>\n",
       "      <th>estado</th>\n",
       "      <th>regiao</th>\n",
       "      <th>tamanho</th>\n",
       "      <th>local_consumo</th>\n",
       "      <th>preco</th>\n",
       "      <th>forma_pagamento</th>\n",
       "      <th>ano_mes</th>\n",
       "    </tr>\n",
       "  </thead>\n",
       "  <tbody>\n",
       "    <tr>\n",
       "      <th>0</th>\n",
       "      <td>PED1994</td>\n",
       "      <td>2020-01-01</td>\n",
       "      <td>Loja 4</td>\n",
       "      <td>Santos</td>\n",
       "      <td>São Paulo</td>\n",
       "      <td>Sudeste</td>\n",
       "      <td>300ml</td>\n",
       "      <td>Consumo no local</td>\n",
       "      <td>5</td>\n",
       "      <td>Dinheiro</td>\n",
       "      <td>2020-01</td>\n",
       "    </tr>\n",
       "    <tr>\n",
       "      <th>1</th>\n",
       "      <td>PED2246</td>\n",
       "      <td>2020-01-01</td>\n",
       "      <td>Loja 6</td>\n",
       "      <td>Florianópolis</td>\n",
       "      <td>Santa Catarina</td>\n",
       "      <td>Sul</td>\n",
       "      <td>500ml</td>\n",
       "      <td>Consumo no local</td>\n",
       "      <td>11</td>\n",
       "      <td>Débito</td>\n",
       "      <td>2020-01</td>\n",
       "    </tr>\n",
       "    <tr>\n",
       "      <th>2</th>\n",
       "      <td>PED3876</td>\n",
       "      <td>2020-01-01</td>\n",
       "      <td>Loja 3</td>\n",
       "      <td>Rio de Janeiro</td>\n",
       "      <td>Rio de Janeiro</td>\n",
       "      <td>Sudeste</td>\n",
       "      <td>300ml</td>\n",
       "      <td>Delivery</td>\n",
       "      <td>7</td>\n",
       "      <td>Crédito</td>\n",
       "      <td>2020-01</td>\n",
       "    </tr>\n",
       "    <tr>\n",
       "      <th>3</th>\n",
       "      <td>PED4352</td>\n",
       "      <td>2020-01-01</td>\n",
       "      <td>Loja 1</td>\n",
       "      <td>Fortaleza</td>\n",
       "      <td>Ceará</td>\n",
       "      <td>Nordeste</td>\n",
       "      <td>1000ml</td>\n",
       "      <td>Consumo no local</td>\n",
       "      <td>7</td>\n",
       "      <td>Débito</td>\n",
       "      <td>2020-01</td>\n",
       "    </tr>\n",
       "    <tr>\n",
       "      <th>4</th>\n",
       "      <td>PED8633</td>\n",
       "      <td>2020-01-01</td>\n",
       "      <td>Loja 5</td>\n",
       "      <td>São Paulo</td>\n",
       "      <td>São Paulo</td>\n",
       "      <td>Sudeste</td>\n",
       "      <td>200ml</td>\n",
       "      <td>Delivery</td>\n",
       "      <td>9</td>\n",
       "      <td>Crédito</td>\n",
       "      <td>2020-01</td>\n",
       "    </tr>\n",
       "  </tbody>\n",
       "</table>\n",
       "</div>"
      ],
      "text/plain": [
       "  id_pedido       data    loja          cidade          estado    regiao  \\\n",
       "0   PED1994 2020-01-01  Loja 4          Santos       São Paulo   Sudeste   \n",
       "1   PED2246 2020-01-01  Loja 6   Florianópolis  Santa Catarina       Sul   \n",
       "2   PED3876 2020-01-01  Loja 3  Rio de Janeiro  Rio de Janeiro   Sudeste   \n",
       "3   PED4352 2020-01-01  Loja 1       Fortaleza           Ceará  Nordeste   \n",
       "4   PED8633 2020-01-01  Loja 5       São Paulo       São Paulo   Sudeste   \n",
       "\n",
       "  tamanho     local_consumo  preco forma_pagamento  ano_mes  \n",
       "0   300ml  Consumo no local      5        Dinheiro  2020-01  \n",
       "1   500ml  Consumo no local     11          Débito  2020-01  \n",
       "2   300ml          Delivery      7         Crédito  2020-01  \n",
       "3  1000ml  Consumo no local      7          Débito  2020-01  \n",
       "4   200ml          Delivery      9         Crédito  2020-01  "
      ]
     },
     "execution_count": 17,
     "metadata": {},
     "output_type": "execute_result"
    }
   ],
   "source": [
    "dados.head()"
   ]
  },
  {
   "cell_type": "code",
   "execution_count": 18,
   "id": "b4fcb6fd",
   "metadata": {},
   "outputs": [
    {
     "data": {
      "text/html": [
       "<div>\n",
       "<style scoped>\n",
       "    .dataframe tbody tr th:only-of-type {\n",
       "        vertical-align: middle;\n",
       "    }\n",
       "\n",
       "    .dataframe tbody tr th {\n",
       "        vertical-align: top;\n",
       "    }\n",
       "\n",
       "    .dataframe thead th {\n",
       "        text-align: right;\n",
       "    }\n",
       "</style>\n",
       "<table border=\"1\" class=\"dataframe\">\n",
       "  <thead>\n",
       "    <tr style=\"text-align: right;\">\n",
       "      <th></th>\n",
       "      <th>id_pedido</th>\n",
       "      <th>data</th>\n",
       "      <th>loja</th>\n",
       "      <th>cidade</th>\n",
       "      <th>estado</th>\n",
       "      <th>regiao</th>\n",
       "      <th>tamanho</th>\n",
       "      <th>local_consumo</th>\n",
       "      <th>preco</th>\n",
       "      <th>forma_pagamento</th>\n",
       "      <th>ano_mes</th>\n",
       "    </tr>\n",
       "  </thead>\n",
       "  <tbody>\n",
       "    <tr>\n",
       "      <th>69995</th>\n",
       "      <td>PED67084</td>\n",
       "      <td>2022-12-31</td>\n",
       "      <td>Loja 6</td>\n",
       "      <td>Florianópolis</td>\n",
       "      <td>Santa Catarina</td>\n",
       "      <td>Sul</td>\n",
       "      <td>500ml</td>\n",
       "      <td>Consumo no local</td>\n",
       "      <td>11</td>\n",
       "      <td>Crédito</td>\n",
       "      <td>2022-12</td>\n",
       "    </tr>\n",
       "    <tr>\n",
       "      <th>69996</th>\n",
       "      <td>PED67857</td>\n",
       "      <td>2022-12-31</td>\n",
       "      <td>Loja 3</td>\n",
       "      <td>Rio de Janeiro</td>\n",
       "      <td>Rio de Janeiro</td>\n",
       "      <td>Sudeste</td>\n",
       "      <td>200ml</td>\n",
       "      <td>Consumo no local</td>\n",
       "      <td>7</td>\n",
       "      <td>Pix</td>\n",
       "      <td>2022-12</td>\n",
       "    </tr>\n",
       "    <tr>\n",
       "      <th>69997</th>\n",
       "      <td>PED69171</td>\n",
       "      <td>2022-12-31</td>\n",
       "      <td>Loja 4</td>\n",
       "      <td>Santos</td>\n",
       "      <td>São Paulo</td>\n",
       "      <td>Sudeste</td>\n",
       "      <td>500ml</td>\n",
       "      <td>Consumo no local</td>\n",
       "      <td>5</td>\n",
       "      <td>Dinheiro</td>\n",
       "      <td>2022-12</td>\n",
       "    </tr>\n",
       "    <tr>\n",
       "      <th>69998</th>\n",
       "      <td>PED69229</td>\n",
       "      <td>2022-12-31</td>\n",
       "      <td>Loja 4</td>\n",
       "      <td>Santos</td>\n",
       "      <td>São Paulo</td>\n",
       "      <td>Sudeste</td>\n",
       "      <td>300ml</td>\n",
       "      <td>Consumo no local</td>\n",
       "      <td>9</td>\n",
       "      <td>Pix</td>\n",
       "      <td>2022-12</td>\n",
       "    </tr>\n",
       "    <tr>\n",
       "      <th>69999</th>\n",
       "      <td>PED69356</td>\n",
       "      <td>2022-12-31</td>\n",
       "      <td>Loja 1</td>\n",
       "      <td>Fortaleza</td>\n",
       "      <td>Ceará</td>\n",
       "      <td>Nordeste</td>\n",
       "      <td>300ml</td>\n",
       "      <td>Delivery</td>\n",
       "      <td>9</td>\n",
       "      <td>Pix</td>\n",
       "      <td>2022-12</td>\n",
       "    </tr>\n",
       "  </tbody>\n",
       "</table>\n",
       "</div>"
      ],
      "text/plain": [
       "      id_pedido       data    loja          cidade          estado    regiao  \\\n",
       "69995  PED67084 2022-12-31  Loja 6   Florianópolis  Santa Catarina       Sul   \n",
       "69996  PED67857 2022-12-31  Loja 3  Rio de Janeiro  Rio de Janeiro   Sudeste   \n",
       "69997  PED69171 2022-12-31  Loja 4          Santos       São Paulo   Sudeste   \n",
       "69998  PED69229 2022-12-31  Loja 4          Santos       São Paulo   Sudeste   \n",
       "69999  PED69356 2022-12-31  Loja 1       Fortaleza           Ceará  Nordeste   \n",
       "\n",
       "      tamanho     local_consumo  preco forma_pagamento  ano_mes  \n",
       "69995   500ml  Consumo no local     11         Crédito  2022-12  \n",
       "69996   200ml  Consumo no local      7             Pix  2022-12  \n",
       "69997   500ml  Consumo no local      5        Dinheiro  2022-12  \n",
       "69998   300ml  Consumo no local      9             Pix  2022-12  \n",
       "69999   300ml          Delivery      9             Pix  2022-12  "
      ]
     },
     "execution_count": 18,
     "metadata": {},
     "output_type": "execute_result"
    }
   ],
   "source": [
    "dados.tail()"
   ]
  },
  {
   "cell_type": "code",
   "execution_count": 19,
   "id": "6b0970e4",
   "metadata": {},
   "outputs": [
    {
     "data": {
      "text/plain": [
       "(70000, 11)"
      ]
     },
     "execution_count": 19,
     "metadata": {},
     "output_type": "execute_result"
    }
   ],
   "source": [
    "dados.shape"
   ]
  },
  {
   "cell_type": "markdown",
   "id": "2245cdd9",
   "metadata": {},
   "source": [
    "# Estatísticas"
   ]
  },
  {
   "cell_type": "code",
   "execution_count": 20,
   "id": "21f026ff",
   "metadata": {},
   "outputs": [
    {
     "data": {
      "text/html": [
       "<div>\n",
       "<style scoped>\n",
       "    .dataframe tbody tr th:only-of-type {\n",
       "        vertical-align: middle;\n",
       "    }\n",
       "\n",
       "    .dataframe tbody tr th {\n",
       "        vertical-align: top;\n",
       "    }\n",
       "\n",
       "    .dataframe thead th {\n",
       "        text-align: right;\n",
       "    }\n",
       "</style>\n",
       "<table border=\"1\" class=\"dataframe\">\n",
       "  <thead>\n",
       "    <tr style=\"text-align: right;\">\n",
       "      <th></th>\n",
       "      <th>preco</th>\n",
       "    </tr>\n",
       "  </thead>\n",
       "  <tbody>\n",
       "    <tr>\n",
       "      <th>count</th>\n",
       "      <td>70000.000000</td>\n",
       "    </tr>\n",
       "    <tr>\n",
       "      <th>mean</th>\n",
       "      <td>8.355200</td>\n",
       "    </tr>\n",
       "    <tr>\n",
       "      <th>std</th>\n",
       "      <td>2.653061</td>\n",
       "    </tr>\n",
       "    <tr>\n",
       "      <th>min</th>\n",
       "      <td>5.000000</td>\n",
       "    </tr>\n",
       "    <tr>\n",
       "      <th>25%</th>\n",
       "      <td>7.000000</td>\n",
       "    </tr>\n",
       "    <tr>\n",
       "      <th>50%</th>\n",
       "      <td>7.000000</td>\n",
       "    </tr>\n",
       "    <tr>\n",
       "      <th>75%</th>\n",
       "      <td>11.000000</td>\n",
       "    </tr>\n",
       "    <tr>\n",
       "      <th>max</th>\n",
       "      <td>13.000000</td>\n",
       "    </tr>\n",
       "  </tbody>\n",
       "</table>\n",
       "</div>"
      ],
      "text/plain": [
       "              preco\n",
       "count  70000.000000\n",
       "mean       8.355200\n",
       "std        2.653061\n",
       "min        5.000000\n",
       "25%        7.000000\n",
       "50%        7.000000\n",
       "75%       11.000000\n",
       "max       13.000000"
      ]
     },
     "execution_count": 20,
     "metadata": {},
     "output_type": "execute_result"
    }
   ],
   "source": [
    "dados.describe()"
   ]
  },
  {
   "cell_type": "markdown",
   "id": "0404d43d",
   "metadata": {},
   "source": [
    "# Análises"
   ]
  },
  {
   "cell_type": "code",
   "execution_count": 21,
   "id": "0600fa57",
   "metadata": {},
   "outputs": [
    {
     "ename": "SyntaxError",
     "evalue": "invalid syntax (133817988.py, line 1)",
     "output_type": "error",
     "traceback": [
      "\u001b[1;36m  File \u001b[1;32m\"C:\\Users\\Eloisa Costa\\AppData\\Local\\Temp\\ipykernel_13420\\133817988.py\"\u001b[1;36m, line \u001b[1;32m1\u001b[0m\n\u001b[1;33m    dados.\u001b[0m\n\u001b[1;37m          ^\u001b[0m\n\u001b[1;31mSyntaxError\u001b[0m\u001b[1;31m:\u001b[0m invalid syntax\n"
     ]
    }
   ],
   "source": [
    "dados."
   ]
  },
  {
   "cell_type": "code",
   "execution_count": null,
   "id": "ff9a3b36",
   "metadata": {},
   "outputs": [],
   "source": [
    "# Total de pedidos por loja\n",
    "dados.loja.value_counts()"
   ]
  },
  {
   "cell_type": "code",
   "execution_count": null,
   "id": "9dde11f4",
   "metadata": {},
   "outputs": [],
   "source": [
    "# Total de pedidos por forma de pagamento\n",
    "dados.forma_pagamento.value_counts()"
   ]
  },
  {
   "cell_type": "code",
   "execution_count": null,
   "id": "132546f7",
   "metadata": {},
   "outputs": [],
   "source": [
    "# Total de pedidos por tamanho de copo\n",
    "dados.tamanho.value_counts()"
   ]
  },
  {
   "cell_type": "markdown",
   "id": "71fe1a20",
   "metadata": {},
   "source": [
    "# Faturamanento"
   ]
  },
  {
   "cell_type": "code",
   "execution_count": null,
   "id": "964dce2c",
   "metadata": {},
   "outputs": [],
   "source": [
    "# Faturamento por loja\n",
    "dados.groupby(\"loja\").sum()"
   ]
  },
  {
   "cell_type": "code",
   "execution_count": null,
   "id": "73a399c6",
   "metadata": {},
   "outputs": [],
   "source": [
    "# Ticket médio por loja\n",
    "dados.groupby(\"loja\").mean()"
   ]
  },
  {
   "cell_type": "code",
   "execution_count": null,
   "id": "8077c8dc",
   "metadata": {},
   "outputs": [],
   "source": [
    "dados.groupby([\"estado\", \"loja\"]).sum()"
   ]
  },
  {
   "cell_type": "code",
   "execution_count": null,
   "id": "81e707fc",
   "metadata": {},
   "outputs": [],
   "source": [
    "dados.groupby([\"regiao\", \"loja\"]).sum()"
   ]
  },
  {
   "cell_type": "code",
   "execution_count": null,
   "id": "4e6c8d86",
   "metadata": {},
   "outputs": [],
   "source": [
    "dados_agrupados_regiao_loja = dados.groupby([\"regiao\", \"loja\"]).sum()"
   ]
  },
  {
   "cell_type": "code",
   "execution_count": null,
   "id": "d050452a",
   "metadata": {},
   "outputs": [],
   "source": [
    "dados_agrupados_regiao_loja.to_excel(\"Faturamento por região.xlsx\")"
   ]
  },
  {
   "cell_type": "markdown",
   "id": "15a5fc61",
   "metadata": {},
   "source": [
    "# Visualização de Dados - Plotly Express"
   ]
  },
  {
   "cell_type": "code",
   "execution_count": null,
   "id": "4dac1227",
   "metadata": {},
   "outputs": [],
   "source": [
    "import plotly_express as px"
   ]
  },
  {
   "cell_type": "code",
   "execution_count": null,
   "id": "12d331ed",
   "metadata": {
    "scrolled": true
   },
   "outputs": [],
   "source": [
    "px.histogram(dados, x='loja', color='estado', text_auto=True)"
   ]
  },
  {
   "cell_type": "code",
   "execution_count": null,
   "id": "9d1f47c3",
   "metadata": {},
   "outputs": [],
   "source": [
    "grafico = px.histogram(dados, x='loja', y='preco', color='forma_pagamento', text_auto=True)"
   ]
  },
  {
   "cell_type": "code",
   "execution_count": null,
   "id": "2cf24556",
   "metadata": {},
   "outputs": [],
   "source": [
    "grafico.show()"
   ]
  },
  {
   "cell_type": "code",
   "execution_count": null,
   "id": "9a7a6a9e",
   "metadata": {},
   "outputs": [],
   "source": [
    "grafico.write_html(\"Forma de pagamento por loja.html\")"
   ]
  },
  {
   "cell_type": "code",
   "execution_count": null,
   "id": "4e866699",
   "metadata": {},
   "outputs": [],
   "source": [
    "px.histogram(dados, x='estado', y='preco', color='forma_pagamento', text_auto=True)"
   ]
  },
  {
   "cell_type": "code",
   "execution_count": null,
   "id": "3f6cf403",
   "metadata": {},
   "outputs": [],
   "source": [
    "# Listas\n",
    "colunas = [\"loja\", \"cidade\", \"estado\", \"regiao\", \"tamanho\", \"local_consumo\", \"forma_pagamento\"]\n"
   ]
  },
  {
   "cell_type": "code",
   "execution_count": null,
   "id": "5540c995",
   "metadata": {},
   "outputs": [],
   "source": [
    "for coluna in colunas:\n",
    "    grafico = px.histogram(dados, x=coluna, y='preco', color='forma_pagamento', text_auto=True)\n",
    "    grafico.show()\n",
    "    grafico.write_html(f\"grafico - {coluna}.html\")"
   ]
  },
  {
   "cell_type": "code",
   "execution_count": null,
   "id": "d4aa9566",
   "metadata": {},
   "outputs": [],
   "source": []
  }
 ],
 "metadata": {
  "kernelspec": {
   "display_name": "Python 3 (ipykernel)",
   "language": "python",
   "name": "python3"
  },
  "language_info": {
   "codemirror_mode": {
    "name": "ipython",
    "version": 3
   },
   "file_extension": ".py",
   "mimetype": "text/x-python",
   "name": "python",
   "nbconvert_exporter": "python",
   "pygments_lexer": "ipython3",
   "version": "3.9.13"
  }
 },
 "nbformat": 4,
 "nbformat_minor": 5
}
